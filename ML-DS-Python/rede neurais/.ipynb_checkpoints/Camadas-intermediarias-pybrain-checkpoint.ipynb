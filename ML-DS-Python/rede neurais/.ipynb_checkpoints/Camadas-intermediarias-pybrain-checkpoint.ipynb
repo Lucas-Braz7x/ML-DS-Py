{
 "cells": [
  {
   "cell_type": "code",
   "execution_count": 1,
   "metadata": {},
   "outputs": [],
   "source": [
    "#Classificação com pybrain\n",
    "\n",
    "from pybrain.datasets import SupervisedDataSet\n",
    "from pybrain.tools.shortcuts import buildNetwork\n",
    "from pybrain.supervised import BackpropTrainer\n"
   ]
  },
  {
   "cell_type": "code",
   "execution_count": 2,
   "metadata": {},
   "outputs": [],
   "source": [
    "dataset = SupervisedDataSet(3, 1)"
   ]
  },
  {
   "cell_type": "code",
   "execution_count": 3,
   "metadata": {},
   "outputs": [],
   "source": [
    "dataset.addSample([0, 0 , 0], [0])\n",
    "dataset.addSample([0, 0 , 1], [1])\n",
    "dataset.addSample([0, 1 , 0], [1])\n",
    "dataset.addSample([0, 1 , 1], [0])\n",
    "dataset.addSample([1, 0 , 0], [1])\n",
    "dataset.addSample([1, 0 , 1], [0])\n",
    "dataset.addSample([1, 1 , 0], [0])\n",
    "dataset.addSample([1, 1 , 1], [1])"
   ]
  },
  {
   "cell_type": "code",
   "execution_count": 5,
   "metadata": {},
   "outputs": [
    {
     "name": "stdout",
     "output_type": "stream",
     "text": [
      "\n",
      "Testing on data:\n",
      "('out:    ', '[0.507 ]')\n",
      "('correct:', '[0     ]')\n",
      "error:  0.12862477\n",
      "('out:    ', '[0.489 ]')\n",
      "('correct:', '[1     ]')\n",
      "error:  0.13047855\n",
      "('out:    ', '[0.49  ]')\n",
      "('correct:', '[1     ]')\n",
      "error:  0.12983252\n",
      "('out:    ', '[0.484 ]')\n",
      "('correct:', '[0     ]')\n",
      "error:  0.11733881\n",
      "('out:    ', '[0.515 ]')\n",
      "('correct:', '[1     ]')\n",
      "error:  0.11758760\n",
      "('out:    ', '[0.483 ]')\n",
      "('correct:', '[0     ]')\n",
      "error:  0.11644869\n",
      "('out:    ', '[0.487 ]')\n",
      "('correct:', '[0     ]')\n",
      "error:  0.11847239\n",
      "('out:    ', '[0.473 ]')\n",
      "('correct:', '[1     ]')\n",
      "error:  0.13888862\n",
      "('All errors:', [0.12862477128035715, 0.13047854660934025, 0.12983252197929854, 0.11733881130231928, 0.11758759954711093, 0.11644869457462931, 0.11847238694399895, 0.13888861540762767])\n",
      "('Average error:', 0.12470899345558525)\n",
      "('Max error:', 0.13888861540762767, 'Median error:', 0.12862477128035715)\n"
     ]
    },
    {
     "data": {
      "text/plain": [
       "0.12470899345558525"
      ]
     },
     "execution_count": 5,
     "metadata": {},
     "output_type": "execute_result"
    }
   ],
   "source": [
    "network = buildNetwork(dataset.indim, 4, 4, dataset.outdim, bias=True)\n",
    "trainer = BackpropTrainer(network, dataset, learningrate=0.01, momentum=0.9)\n",
    "\n",
    "for i in range(1000):\n",
    "    trainer.train()\n",
    "\n",
    "teste = SupervisedDataSet(3, 1)\n",
    "teste.addSample([0, 0 , 0], [0])\n",
    "teste.addSample([0, 0 , 1], [1])\n",
    "teste.addSample([0, 1 , 0], [1])\n",
    "teste.addSample([0, 1 , 1], [0])\n",
    "teste.addSample([1, 0 , 0], [1])\n",
    "teste.addSample([1, 0 , 1], [0])\n",
    "teste.addSample([1, 1 , 0], [0])\n",
    "teste.addSample([1, 1 , 1], [1])\n",
    "\n",
    "trainer.testOnData(teste, verbose=True)"
   ]
  },
  {
   "cell_type": "code",
   "execution_count": 6,
   "metadata": {},
   "outputs": [
    {
     "name": "stdout",
     "output_type": "stream",
     "text": [
      "\n",
      "Testing on data:\n",
      "('out:    ', '[0.008 ]')\n",
      "('correct:', '[0     ]')\n",
      "error:  0.00003028\n",
      "('out:    ', '[0.999 ]')\n",
      "('correct:', '[1     ]')\n",
      "error:  0.00000019\n",
      "('out:    ', '[0.997 ]')\n",
      "('correct:', '[1     ]')\n",
      "error:  0.00000475\n",
      "('out:    ', '[0.006 ]')\n",
      "('correct:', '[0     ]')\n",
      "error:  0.00001855\n",
      "('out:    ', '[0.994 ]')\n",
      "('correct:', '[1     ]')\n",
      "error:  0.00001685\n",
      "('out:    ', '[0.021 ]')\n",
      "('correct:', '[0     ]')\n",
      "error:  0.00022590\n",
      "('out:    ', '[0.014 ]')\n",
      "('correct:', '[0     ]')\n",
      "error:  0.00009351\n",
      "('out:    ', '[0.987 ]')\n",
      "('correct:', '[1     ]')\n",
      "error:  0.00007818\n",
      "('All errors:', [3.0284631190259436e-05, 1.8998261463822735e-07, 4.750495574321345e-06, 1.8553247511015837e-05, 1.6847770350942423e-05, 0.00022589798982435393, 9.35052744417246e-05, 7.817734550653588e-05])\n",
      "('Average error:', 5.8525842126723965e-05)\n",
      "('Max error:', 0.00022589798982435393, 'Median error:', 3.0284631190259436e-05)\n"
     ]
    },
    {
     "data": {
      "text/plain": [
       "5.8525842126723965e-05"
      ]
     },
     "execution_count": 6,
     "metadata": {},
     "output_type": "execute_result"
    }
   ],
   "source": [
    "network = buildNetwork(dataset.indim, 6, 6, dataset.outdim, bias=True)\n",
    "trainer = BackpropTrainer(network, dataset, learningrate=0.01, momentum=0.9)\n",
    "\n",
    "for i in range(1000):\n",
    "    trainer.train()\n",
    "\n",
    "teste = SupervisedDataSet(3, 1)\n",
    "teste.addSample([0, 0 , 0], [0])\n",
    "teste.addSample([0, 0 , 1], [1])\n",
    "teste.addSample([0, 1 , 0], [1])\n",
    "teste.addSample([0, 1 , 1], [0])\n",
    "teste.addSample([1, 0 , 0], [1])\n",
    "teste.addSample([1, 0 , 1], [0])\n",
    "teste.addSample([1, 1 , 0], [0])\n",
    "teste.addSample([1, 1 , 1], [1])\n",
    "\n",
    "trainer.testOnData(teste, verbose=True)"
   ]
  },
  {
   "cell_type": "code",
   "execution_count": 7,
   "metadata": {},
   "outputs": [
    {
     "name": "stdout",
     "output_type": "stream",
     "text": [
      "\n",
      "Testing on data:\n",
      "('out:    ', '[0.556 ]')\n",
      "('correct:', '[0     ]')\n",
      "error:  0.15483980\n",
      "('out:    ', '[0.527 ]')\n",
      "('correct:', '[1     ]')\n",
      "error:  0.11201732\n",
      "('out:    ', '[0.635 ]')\n",
      "('correct:', '[1     ]')\n",
      "error:  0.06656674\n",
      "('out:    ', '[0.538 ]')\n",
      "('correct:', '[0     ]')\n",
      "error:  0.14498985\n",
      "('out:    ', '[0.523 ]')\n",
      "('correct:', '[1     ]')\n",
      "error:  0.11387957\n",
      "('out:    ', '[0.528 ]')\n",
      "('correct:', '[0     ]')\n",
      "error:  0.13912847\n",
      "('out:    ', '[0.55  ]')\n",
      "('correct:', '[0     ]')\n",
      "error:  0.15113179\n",
      "('out:    ', '[0.536 ]')\n",
      "('correct:', '[1     ]')\n",
      "error:  0.10747131\n",
      "('All errors:', [0.15483979942158016, 0.1120173210586316, 0.06656674144216658, 0.144989851354572, 0.11387956825318779, 0.13912846508371446, 0.15113178786640466, 0.10747131381564831])\n",
      "('Average error:', 0.1237531060369882)\n",
      "('Max error:', 0.15483979942158016, 'Median error:', 0.13912846508371446)\n"
     ]
    },
    {
     "data": {
      "text/plain": [
       "0.1237531060369882"
      ]
     },
     "execution_count": 7,
     "metadata": {},
     "output_type": "execute_result"
    }
   ],
   "source": [
    "network = buildNetwork(dataset.indim, 6, 6, dataset.outdim, bias=True)\n",
    "trainer = BackpropTrainer(network, dataset, learningrate=0.01, momentum=0.9)\n",
    "\n",
    "for i in range(1500):\n",
    "    trainer.train()\n",
    "\n",
    "teste = SupervisedDataSet(3, 1)\n",
    "teste.addSample([0, 0 , 0], [0])\n",
    "teste.addSample([0, 0 , 1], [1])\n",
    "teste.addSample([0, 1 , 0], [1])\n",
    "teste.addSample([0, 1 , 1], [0])\n",
    "teste.addSample([1, 0 , 0], [1])\n",
    "teste.addSample([1, 0 , 1], [0])\n",
    "teste.addSample([1, 1 , 0], [0])\n",
    "teste.addSample([1, 1 , 1], [1])\n",
    "\n",
    "trainer.testOnData(teste, verbose=True)"
   ]
  },
  {
   "cell_type": "code",
   "execution_count": 8,
   "metadata": {},
   "outputs": [
    {
     "name": "stdout",
     "output_type": "stream",
     "text": [
      "\n",
      "Testing on data:\n",
      "('out:    ', '[0     ]')\n",
      "('correct:', '[0     ]')\n",
      "error:  0.00000000\n",
      "('out:    ', '[1     ]')\n",
      "('correct:', '[1     ]')\n",
      "error:  0.00000000\n",
      "('out:    ', '[1     ]')\n",
      "('correct:', '[1     ]')\n",
      "error:  0.00000000\n",
      "('out:    ', '[-0    ]')\n",
      "('correct:', '[0     ]')\n",
      "error:  0.00000000\n",
      "('out:    ', '[1     ]')\n",
      "('correct:', '[1     ]')\n",
      "error:  0.00000000\n",
      "('out:    ', '[-0    ]')\n",
      "('correct:', '[0     ]')\n",
      "error:  0.00000000\n",
      "('out:    ', '[-0    ]')\n",
      "('correct:', '[0     ]')\n",
      "error:  0.00000000\n",
      "('out:    ', '[1     ]')\n",
      "('correct:', '[1     ]')\n",
      "error:  0.00000000\n",
      "('All errors:', [1.7210154935184325e-09, 4.6206313689701735e-09, 3.103926656842118e-11, 2.3769092565205037e-10, 4.947338179112504e-10, 2.134856280140785e-11, 3.914184828492848e-09, 1.5584187529268224e-09])\n",
      "('Average error:', 1.5748828771051758e-09)\n",
      "('Max error:', 4.6206313689701735e-09, 'Median error:', 1.5584187529268224e-09)\n"
     ]
    },
    {
     "data": {
      "text/plain": [
       "1.5748828771051758e-09"
      ]
     },
     "execution_count": 8,
     "metadata": {},
     "output_type": "execute_result"
    }
   ],
   "source": [
    "network = buildNetwork(dataset.indim, 12, dataset.outdim, bias=True)\n",
    "trainer = BackpropTrainer(network, dataset, learningrate=0.01, momentum=0.9)\n",
    "\n",
    "for i in range(1500):\n",
    "    trainer.train()\n",
    "\n",
    "teste = SupervisedDataSet(3, 1)\n",
    "teste.addSample([0, 0 , 0], [0])\n",
    "teste.addSample([0, 0 , 1], [1])\n",
    "teste.addSample([0, 1 , 0], [1])\n",
    "teste.addSample([0, 1 , 1], [0])\n",
    "teste.addSample([1, 0 , 0], [1])\n",
    "teste.addSample([1, 0 , 1], [0])\n",
    "teste.addSample([1, 1 , 0], [0])\n",
    "teste.addSample([1, 1 , 1], [1])\n",
    "\n",
    "trainer.testOnData(teste, verbose=True)"
   ]
  },
  {
   "cell_type": "code",
   "execution_count": null,
   "metadata": {},
   "outputs": [],
   "source": []
  }
 ],
 "metadata": {
  "kernelspec": {
   "display_name": "Python 3",
   "language": "python",
   "name": "python3"
  },
  "language_info": {
   "codemirror_mode": {
    "name": "ipython",
    "version": 3
   },
   "file_extension": ".py",
   "mimetype": "text/x-python",
   "name": "python",
   "nbconvert_exporter": "python",
   "pygments_lexer": "ipython3",
   "version": "3.8.2"
  }
 },
 "nbformat": 4,
 "nbformat_minor": 4
}
